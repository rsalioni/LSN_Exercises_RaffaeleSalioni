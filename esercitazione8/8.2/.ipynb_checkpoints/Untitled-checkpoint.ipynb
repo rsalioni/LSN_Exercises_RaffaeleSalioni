{
 "cells": [
  {
   "cell_type": "code",
   "execution_count": null,
   "metadata": {},
   "outputs": [],
   "source": [
    "import matplotlib\n",
    "import matplotlib.pyplot as plt\n",
    "import numpy as np\n",
    "x, f = np.loadtxt(\"histo.txt\", usecols=(0,1), unpack='true',  delimiter=',')\n",
    "\n",
    "\n",
    "plt.plot(x,f,yerr=error)\n",
    "plt.xlabel('#blocchi')\n",
    "plt.ylabel('energia')\n",
    "plt.title(\"valore medio energia - metropolis\")\n",
    "plt.grid(True)\n",
    "plt.show()"
   ]
  }
 ],
 "metadata": {
  "kernelspec": {
   "display_name": "Python 3",
   "language": "python",
   "name": "python3"
  },
  "language_info": {
   "codemirror_mode": {
    "name": "ipython",
    "version": 3
   },
   "file_extension": ".py",
   "mimetype": "text/x-python",
   "name": "python",
   "nbconvert_exporter": "python",
   "pygments_lexer": "ipython3",
   "version": "3.8.5"
  }
 },
 "nbformat": 4,
 "nbformat_minor": 4
}
