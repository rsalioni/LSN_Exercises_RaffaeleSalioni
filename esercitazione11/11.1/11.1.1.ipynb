{
 "cells": [
  {
   "cell_type": "code",
   "execution_count": 15,
   "metadata": {},
   "outputs": [],
   "source": [
    "# target parameters of f(x) = m*x + b\n",
    "m = 2 # slope\n",
    "b = 1 # intersect"
   ]
  },
  {
   "cell_type": "code",
   "execution_count": 16,
   "metadata": {},
   "outputs": [],
   "source": [
    "import numpy as np\n",
    "\n",
    "# generate training inputs\n",
    "np.random.seed(0)\n",
    "x_train = np.random.uniform(-1, 1, 200)\n",
    "x_valid = np.random.uniform(-1, 1, 20)\n",
    "x_valid.sort()\n",
    "y_target = m * x_valid + b # ideal (target) linear function\n",
    "\n",
    "sigma = 0.3 # noise standard deviation, for the moment it is absent\n",
    "y_train = np.random.normal(m * x_train + b, sigma) # actual measures from which we want to guess regression parameters\n",
    "y_valid = np.random.normal(m * x_valid + b, sigma)"
   ]
  },
  {
   "cell_type": "code",
   "execution_count": 17,
   "metadata": {},
   "outputs": [
    {
     "data": {
      "image/png": "[encoded data removed]",
      "text/plain": [
       "<Figure size 720x504 with 1 Axes>"
      ]
     },
     "metadata": {
      "needs_background": "light"
     },
     "output_type": "display_data"
    }
   ],
   "source": [
    "# plot validation and target dataset\n",
    "import matplotlib.pyplot as plt\n",
    "plt.figure(figsize=(10, 7))\n",
    "plt.plot(x_valid, y_target, label='target')\n",
    "plt.scatter(x_valid, y_valid, color='r', label='validation data')\n",
    "plt.legend()\n",
    "plt.grid(True)\n",
    "plt.show()"
   ]
  },
  {
   "cell_type": "code",
   "execution_count": 18,
   "metadata": {},
   "outputs": [],
   "source": [
    "# compose the NN model\n",
    "import tensorflow as tf\n",
    "from tensorflow import keras\n",
    "\n",
    "from tensorflow.keras.models import Sequential\n",
    "from tensorflow.keras.layers import Dense, Activation\n",
    "from tensorflow.keras import backend as K\n",
    "from tensorflow.keras.utils import get_custom_objects\n",
    "\n",
    "model = tf.keras.Sequential()\n",
    "model.add(Dense(1, input_shape=(1,)))\n",
    "\n",
    "# compile the model choosing optimizer, loss and metrics objects\n",
    "model.compile(optimizer='sgd', loss='mse', metrics=['mse'])"
   ]
  },
  {
   "cell_type": "code",
   "execution_count": 19,
   "metadata": {},
   "outputs": [
    {
     "name": "stdout",
     "output_type": "stream",
     "text": [
      "Model: \"sequential_1\"\n",
      "_________________________________________________________________\n",
      "Layer (type)                 Output Shape              Param #   \n",
      "=================================================================\n",
      "dense_1 (Dense)              (None, 1)                 2         \n",
      "=================================================================\n",
      "Total params: 2\n",
      "Trainable params: 2\n",
      "Non-trainable params: 0\n",
      "_________________________________________________________________\n"
     ]
    }
   ],
   "source": [
    "# get a summary of our composed model\n",
    "model.summary()"
   ]
  },
  {
   "cell_type": "code",
   "execution_count": 20,
   "metadata": {
    "scrolled": false
   },
   "outputs": [
    {
     "name": "stdout",
     "output_type": "stream",
     "text": [
      "Epoch 1/100\n",
      "4/4 [==============================] - 1s 77ms/step - loss: 4.4050 - mse: 4.4050 - val_loss: 3.5881 - val_mse: 3.5881\n",
      "Epoch 2/100\n",
      "4/4 [==============================] - 0s 19ms/step - loss: 4.1003 - mse: 4.1003 - val_loss: 3.3534 - val_mse: 3.3534\n",
      "Epoch 3/100\n",
      "4/4 [==============================] - 0s 20ms/step - loss: 3.8223 - mse: 3.8223 - val_loss: 3.1396 - val_mse: 3.1396\n",
      "Epoch 4/100\n",
      "4/4 [==============================] - 0s 18ms/step - loss: 3.5705 - mse: 3.5705 - val_loss: 2.9447 - val_mse: 2.9447\n",
      "Epoch 5/100\n",
      "4/4 [==============================] - 0s 23ms/step - loss: 3.3420 - mse: 3.3420 - val_loss: 2.7662 - val_mse: 2.7662\n",
      "Epoch 6/100\n",
      "4/4 [==============================] - 0s 25ms/step - loss: 3.1302 - mse: 3.1302 - val_loss: 2.6023 - val_mse: 2.6023\n",
      "Epoch 7/100\n",
      "4/4 [==============================] - 0s 21ms/step - loss: 2.9374 - mse: 2.9374 - val_loss: 2.4514 - val_mse: 2.4514\n",
      "Epoch 8/100\n",
      "4/4 [==============================] - 0s 22ms/step - loss: 2.7610 - mse: 2.7610 - val_loss: 2.3120 - val_mse: 2.3120\n",
      "Epoch 9/100\n",
      "4/4 [==============================] - 0s 17ms/step - loss: 2.5978 - mse: 2.5978 - val_loss: 2.1829 - val_mse: 2.1829\n",
      "Epoch 10/100\n",
      "4/4 [==============================] - 0s 19ms/step - loss: 2.4468 - mse: 2.4468 - val_loss: 2.0629 - val_mse: 2.0629\n",
      "Epoch 11/100\n",
      "4/4 [==============================] - 0s 18ms/step - loss: 2.3069 - mse: 2.3069 - val_loss: 1.9513 - val_mse: 1.9513\n",
      "Epoch 12/100\n",
      "4/4 [==============================] - 0s 19ms/step - loss: 2.1765 - mse: 2.1765 - val_loss: 1.8472 - val_mse: 1.8472\n",
      "Epoch 13/100\n",
      "4/4 [==============================] - 0s 18ms/step - loss: 2.0557 - mse: 2.0557 - val_loss: 1.7500 - val_mse: 1.7500\n",
      "Epoch 14/100\n",
      "4/4 [==============================] - 0s 18ms/step - loss: 1.9441 - mse: 1.9441 - val_loss: 1.6589 - val_mse: 1.6589\n",
      "Epoch 15/100\n",
      "4/4 [==============================] - 0s 17ms/step - loss: 1.8395 - mse: 1.8395 - val_loss: 1.5736 - val_mse: 1.5736\n",
      "Epoch 16/100\n",
      "4/4 [==============================] - 0s 17ms/step - loss: 1.7408 - mse: 1.7408 - val_loss: 1.4934 - val_mse: 1.4934\n",
      "Epoch 17/100\n",
      "4/4 [==============================] - 0s 20ms/step - loss: 1.6488 - mse: 1.6488 - val_loss: 1.4181 - val_mse: 1.4181\n",
      "Epoch 18/100\n",
      "4/4 [==============================] - 0s 22ms/step - loss: 1.5628 - mse: 1.5628 - val_loss: 1.3471 - val_mse: 1.3471\n",
      "Epoch 19/100\n",
      "4/4 [==============================] - 0s 22ms/step - loss: 1.4833 - mse: 1.4833 - val_loss: 1.2803 - val_mse: 1.2803\n",
      "Epoch 20/100\n",
      "4/4 [==============================] - 0s 20ms/step - loss: 1.4070 - mse: 1.4070 - val_loss: 1.2172 - val_mse: 1.2172\n",
      "Epoch 21/100\n",
      "4/4 [==============================] - 0s 20ms/step - loss: 1.3364 - mse: 1.3364 - val_loss: 1.1577 - val_mse: 1.1577\n",
      "Epoch 22/100\n",
      "4/4 [==============================] - 0s 18ms/step - loss: 1.2694 - mse: 1.2694 - val_loss: 1.1015 - val_mse: 1.1015\n",
      "Epoch 23/100\n",
      "4/4 [==============================] - 0s 18ms/step - loss: 1.2063 - mse: 1.2063 - val_loss: 1.0483 - val_mse: 1.0483\n",
      "Epoch 24/100\n",
      "4/4 [==============================] - 0s 15ms/step - loss: 1.1468 - mse: 1.1468 - val_loss: 0.9980 - val_mse: 0.9980\n",
      "Epoch 25/100\n",
      "4/4 [==============================] - 0s 18ms/step - loss: 1.0909 - mse: 1.0909 - val_loss: 0.9504 - val_mse: 0.9504\n",
      "Epoch 26/100\n",
      "4/4 [==============================] - 0s 17ms/step - loss: 1.0378 - mse: 1.0378 - val_loss: 0.9054 - val_mse: 0.9054\n",
      "Epoch 27/100\n",
      "4/4 [==============================] - 0s 22ms/step - loss: 0.9884 - mse: 0.9884 - val_loss: 0.8628 - val_mse: 0.8628\n",
      "Epoch 28/100\n",
      "4/4 [==============================] - 0s 16ms/step - loss: 0.9408 - mse: 0.9408 - val_loss: 0.8223 - val_mse: 0.8223\n",
      "Epoch 29/100\n",
      "4/4 [==============================] - 0s 18ms/step - loss: 0.8967 - mse: 0.8967 - val_loss: 0.7840 - val_mse: 0.7840\n",
      "Epoch 30/100\n",
      "4/4 [==============================] - 0s 19ms/step - loss: 0.8542 - mse: 0.8542 - val_loss: 0.7477 - val_mse: 0.7477\n",
      "Epoch 31/100\n",
      "4/4 [==============================] - 0s 20ms/step - loss: 0.8143 - mse: 0.8143 - val_loss: 0.7132 - val_mse: 0.7132\n",
      "Epoch 32/100\n",
      "4/4 [==============================] - 0s 19ms/step - loss: 0.7764 - mse: 0.7764 - val_loss: 0.6806 - val_mse: 0.6806\n",
      "Epoch 33/100\n",
      "4/4 [==============================] - 0s 22ms/step - loss: 0.7406 - mse: 0.7406 - val_loss: 0.6496 - val_mse: 0.6496\n",
      "Epoch 34/100\n",
      "4/4 [==============================] - 0s 22ms/step - loss: 0.7067 - mse: 0.7067 - val_loss: 0.6203 - val_mse: 0.6203\n",
      "Epoch 35/100\n",
      "4/4 [==============================] - 0s 17ms/step - loss: 0.6749 - mse: 0.6749 - val_loss: 0.5924 - val_mse: 0.5924\n",
      "Epoch 36/100\n",
      "4/4 [==============================] - 0s 17ms/step - loss: 0.6445 - mse: 0.6445 - val_loss: 0.5660 - val_mse: 0.5660\n",
      "Epoch 37/100\n",
      "4/4 [==============================] - 0s 20ms/step - loss: 0.6154 - mse: 0.6154 - val_loss: 0.5409 - val_mse: 0.5409\n",
      "Epoch 38/100\n",
      "4/4 [==============================] - 0s 20ms/step - loss: 0.5881 - mse: 0.5881 - val_loss: 0.5172 - val_mse: 0.5172\n",
      "Epoch 39/100\n",
      "4/4 [==============================] - 0s 18ms/step - loss: 0.5625 - mse: 0.5625 - val_loss: 0.4947 - val_mse: 0.4947\n",
      "Epoch 40/100\n",
      "4/4 [==============================] - 0s 18ms/step - loss: 0.5378 - mse: 0.5378 - val_loss: 0.4733 - val_mse: 0.4733\n",
      "Epoch 41/100\n",
      "4/4 [==============================] - 0s 19ms/step - loss: 0.5145 - mse: 0.5145 - val_loss: 0.4530 - val_mse: 0.4530\n",
      "Epoch 42/100\n",
      "4/4 [==============================] - 0s 20ms/step - loss: 0.4925 - mse: 0.4925 - val_loss: 0.4338 - val_mse: 0.4338\n",
      "Epoch 43/100\n",
      "4/4 [==============================] - 0s 19ms/step - loss: 0.4714 - mse: 0.4714 - val_loss: 0.4156 - val_mse: 0.4156\n",
      "Epoch 44/100\n",
      "4/4 [==============================] - 0s 17ms/step - loss: 0.4516 - mse: 0.4516 - val_loss: 0.3983 - val_mse: 0.3983\n",
      "Epoch 45/100\n",
      "4/4 [==============================] - 0s 16ms/step - loss: 0.4327 - mse: 0.4327 - val_loss: 0.3819 - val_mse: 0.3819\n",
      "Epoch 46/100\n",
      "4/4 [==============================] - 0s 16ms/step - loss: 0.4146 - mse: 0.4146 - val_loss: 0.3664 - val_mse: 0.3664\n",
      "Epoch 47/100\n",
      "4/4 [==============================] - 0s 15ms/step - loss: 0.3978 - mse: 0.3978 - val_loss: 0.3517 - val_mse: 0.3517\n",
      "Epoch 48/100\n",
      "4/4 [==============================] - 0s 17ms/step - loss: 0.3817 - mse: 0.3817 - val_loss: 0.3377 - val_mse: 0.3377\n",
      "Epoch 49/100\n",
      "4/4 [==============================] - 0s 16ms/step - loss: 0.3664 - mse: 0.3664 - val_loss: 0.3245 - val_mse: 0.3245\n",
      "Epoch 50/100\n",
      "4/4 [==============================] - 0s 15ms/step - loss: 0.3518 - mse: 0.3518 - val_loss: 0.3119 - val_mse: 0.3119\n",
      "Epoch 51/100\n",
      "4/4 [==============================] - 0s 18ms/step - loss: 0.3380 - mse: 0.3380 - val_loss: 0.3001 - val_mse: 0.3001\n",
      "Epoch 52/100\n",
      "4/4 [==============================] - 0s 17ms/step - loss: 0.3250 - mse: 0.3250 - val_loss: 0.2888 - val_mse: 0.2888\n",
      "Epoch 53/100\n",
      "4/4 [==============================] - 0s 17ms/step - loss: 0.3124 - mse: 0.3124 - val_loss: 0.2782 - val_mse: 0.2782\n",
      "Epoch 54/100\n",
      "4/4 [==============================] - 0s 16ms/step - loss: 0.3007 - mse: 0.3007 - val_loss: 0.2681 - val_mse: 0.2681\n",
      "Epoch 55/100\n",
      "4/4 [==============================] - 0s 15ms/step - loss: 0.2894 - mse: 0.2894 - val_loss: 0.2585 - val_mse: 0.2585\n",
      "Epoch 56/100\n",
      "4/4 [==============================] - 0s 20ms/step - loss: 0.2788 - mse: 0.2788 - val_loss: 0.2495 - val_mse: 0.2495\n",
      "Epoch 57/100\n",
      "4/4 [==============================] - 0s 20ms/step - loss: 0.2688 - mse: 0.2688 - val_loss: 0.2409 - val_mse: 0.2409\n",
      "Epoch 58/100\n",
      "4/4 [==============================] - 0s 19ms/step - loss: 0.2592 - mse: 0.2592 - val_loss: 0.2327 - val_mse: 0.2327\n",
      "Epoch 59/100\n",
      "4/4 [==============================] - 0s 18ms/step - loss: 0.2501 - mse: 0.2501 - val_loss: 0.2251 - val_mse: 0.2251\n",
      "Epoch 60/100\n",
      "4/4 [==============================] - 0s 20ms/step - loss: 0.2415 - mse: 0.2415 - val_loss: 0.2178 - val_mse: 0.2178\n",
      "Epoch 61/100\n",
      "4/4 [==============================] - 0s 17ms/step - loss: 0.2332 - mse: 0.2332 - val_loss: 0.2109 - val_mse: 0.2109\n",
      "Epoch 62/100\n",
      "4/4 [==============================] - 0s 14ms/step - loss: 0.2255 - mse: 0.2255 - val_loss: 0.2044 - val_mse: 0.2044\n",
      "Epoch 63/100\n"
     ]
    },
    {
     "name": "stdout",
     "output_type": "stream",
     "text": [
      "4/4 [==============================] - 0s 18ms/step - loss: 0.2181 - mse: 0.2181 - val_loss: 0.1982 - val_mse: 0.1982\n",
      "Epoch 64/100\n",
      "4/4 [==============================] - 0s 17ms/step - loss: 0.2111 - mse: 0.2111 - val_loss: 0.1924 - val_mse: 0.1924\n",
      "Epoch 65/100\n",
      "4/4 [==============================] - 0s 19ms/step - loss: 0.2044 - mse: 0.2044 - val_loss: 0.1869 - val_mse: 0.1869\n",
      "Epoch 66/100\n",
      "4/4 [==============================] - 0s 17ms/step - loss: 0.1981 - mse: 0.1981 - val_loss: 0.1817 - val_mse: 0.1817\n",
      "Epoch 67/100\n",
      "4/4 [==============================] - 0s 17ms/step - loss: 0.1922 - mse: 0.1922 - val_loss: 0.1767 - val_mse: 0.1767\n",
      "Epoch 68/100\n",
      "4/4 [==============================] - 0s 17ms/step - loss: 0.1864 - mse: 0.1864 - val_loss: 0.1721 - val_mse: 0.1721\n",
      "Epoch 69/100\n",
      "4/4 [==============================] - 0s 16ms/step - loss: 0.1810 - mse: 0.1810 - val_loss: 0.1677 - val_mse: 0.1677\n",
      "Epoch 70/100\n",
      "4/4 [==============================] - 0s 19ms/step - loss: 0.1758 - mse: 0.1758 - val_loss: 0.1635 - val_mse: 0.1635\n",
      "Epoch 71/100\n",
      "4/4 [==============================] - 0s 16ms/step - loss: 0.1710 - mse: 0.1710 - val_loss: 0.1596 - val_mse: 0.1596\n",
      "Epoch 72/100\n",
      "4/4 [==============================] - 0s 20ms/step - loss: 0.1665 - mse: 0.1665 - val_loss: 0.1559 - val_mse: 0.1559\n",
      "Epoch 73/100\n",
      "4/4 [==============================] - 0s 19ms/step - loss: 0.1619 - mse: 0.1619 - val_loss: 0.1523 - val_mse: 0.1523\n",
      "Epoch 74/100\n",
      "4/4 [==============================] - 0s 17ms/step - loss: 0.1578 - mse: 0.1578 - val_loss: 0.1490 - val_mse: 0.1490\n",
      "Epoch 75/100\n",
      "4/4 [==============================] - 0s 19ms/step - loss: 0.1539 - mse: 0.1539 - val_loss: 0.1459 - val_mse: 0.1459\n",
      "Epoch 76/100\n",
      "4/4 [==============================] - 0s 22ms/step - loss: 0.1501 - mse: 0.1501 - val_loss: 0.1429 - val_mse: 0.1429\n",
      "Epoch 77/100\n",
      "4/4 [==============================] - 0s 17ms/step - loss: 0.1466 - mse: 0.1466 - val_loss: 0.1401 - val_mse: 0.1401\n",
      "Epoch 78/100\n",
      "4/4 [==============================] - 0s 14ms/step - loss: 0.1431 - mse: 0.1431 - val_loss: 0.1375 - val_mse: 0.1375\n",
      "Epoch 79/100\n",
      "4/4 [==============================] - 0s 19ms/step - loss: 0.1398 - mse: 0.1398 - val_loss: 0.1350 - val_mse: 0.1350\n",
      "Epoch 80/100\n",
      "4/4 [==============================] - 0s 18ms/step - loss: 0.1368 - mse: 0.1368 - val_loss: 0.1327 - val_mse: 0.1327\n",
      "Epoch 81/100\n",
      "4/4 [==============================] - 0s 17ms/step - loss: 0.1338 - mse: 0.1338 - val_loss: 0.1305 - val_mse: 0.1305\n",
      "Epoch 82/100\n",
      "4/4 [==============================] - 0s 17ms/step - loss: 0.1311 - mse: 0.1311 - val_loss: 0.1284 - val_mse: 0.1284\n",
      "Epoch 83/100\n",
      "4/4 [==============================] - 0s 19ms/step - loss: 0.1285 - mse: 0.1285 - val_loss: 0.1264 - val_mse: 0.1264\n",
      "Epoch 84/100\n",
      "4/4 [==============================] - 0s 20ms/step - loss: 0.1260 - mse: 0.1260 - val_loss: 0.1246 - val_mse: 0.1246\n",
      "Epoch 85/100\n",
      "4/4 [==============================] - 0s 21ms/step - loss: 0.1236 - mse: 0.1236 - val_loss: 0.1229 - val_mse: 0.1229\n",
      "Epoch 86/100\n",
      "4/4 [==============================] - 0s 21ms/step - loss: 0.1214 - mse: 0.1214 - val_loss: 0.1212 - val_mse: 0.1212\n",
      "Epoch 87/100\n",
      "4/4 [==============================] - 0s 16ms/step - loss: 0.1193 - mse: 0.1193 - val_loss: 0.1197 - val_mse: 0.1197\n",
      "Epoch 88/100\n",
      "4/4 [==============================] - 0s 20ms/step - loss: 0.1172 - mse: 0.1172 - val_loss: 0.1183 - val_mse: 0.1183\n",
      "Epoch 89/100\n",
      "4/4 [==============================] - 0s 18ms/step - loss: 0.1153 - mse: 0.1153 - val_loss: 0.1169 - val_mse: 0.1169\n",
      "Epoch 90/100\n",
      "4/4 [==============================] - 0s 20ms/step - loss: 0.1135 - mse: 0.1135 - val_loss: 0.1156 - val_mse: 0.1156\n",
      "Epoch 91/100\n",
      "4/4 [==============================] - 0s 24ms/step - loss: 0.1118 - mse: 0.1118 - val_loss: 0.1145 - val_mse: 0.1145\n",
      "Epoch 92/100\n",
      "4/4 [==============================] - 0s 16ms/step - loss: 0.1101 - mse: 0.1101 - val_loss: 0.1133 - val_mse: 0.1133\n",
      "Epoch 93/100\n",
      "4/4 [==============================] - 0s 19ms/step - loss: 0.1086 - mse: 0.1086 - val_loss: 0.1123 - val_mse: 0.1123\n",
      "Epoch 94/100\n",
      "4/4 [==============================] - 0s 26ms/step - loss: 0.1071 - mse: 0.1071 - val_loss: 0.1113 - val_mse: 0.1113\n",
      "Epoch 95/100\n",
      "4/4 [==============================] - 0s 19ms/step - loss: 0.1056 - mse: 0.1056 - val_loss: 0.1104 - val_mse: 0.1104\n",
      "Epoch 96/100\n",
      "4/4 [==============================] - 0s 18ms/step - loss: 0.1044 - mse: 0.1044 - val_loss: 0.1095 - val_mse: 0.1095\n",
      "Epoch 97/100\n",
      "4/4 [==============================] - 0s 16ms/step - loss: 0.1031 - mse: 0.1031 - val_loss: 0.1087 - val_mse: 0.1087\n",
      "Epoch 98/100\n",
      "4/4 [==============================] - 0s 26ms/step - loss: 0.1018 - mse: 0.1018 - val_loss: 0.1079 - val_mse: 0.1079\n",
      "Epoch 99/100\n",
      "4/4 [==============================] - 0s 27ms/step - loss: 0.1007 - mse: 0.1007 - val_loss: 0.1072 - val_mse: 0.1072\n",
      "Epoch 100/100\n",
      "4/4 [==============================] - 0s 19ms/step - loss: 0.0996 - mse: 0.0996 - val_loss: 0.1065 - val_mse: 0.1065\n"
     ]
    }
   ],
   "source": [
    "# fit the model using training dataset\n",
    "# over 10 epochs of 32 batch size each\n",
    "# report training progress against validation data\n",
    "history = model.fit(x=x_train, y=y_train, \n",
    "          batch_size=50, epochs=100,\n",
    "          shuffle=True, # a good idea is to shuffle input before at each epoch\n",
    "          validation_data=(x_valid, y_valid))"
   ]
  },
  {
   "cell_type": "code",
   "execution_count": 21,
   "metadata": {},
   "outputs": [
    {
     "data": {
      "text/plain": [
       "[array([[1.7865988]], dtype=float32), array([0.9637866], dtype=float32)]"
      ]
     },
     "execution_count": 21,
     "metadata": {},
     "output_type": "execute_result"
    }
   ],
   "source": [
    "# return weights and biases\n",
    "model.get_weights()"
   ]
  },
  {
   "cell_type": "code",
   "execution_count": 22,
   "metadata": {},
   "outputs": [
    {
     "name": "stdout",
     "output_type": "stream",
     "text": [
      "1/1 [==============================] - 0s 33ms/step - loss: 0.1065 - mse: 0.1065\n",
      "\n",
      "Test loss: 0.10653092712163925\n",
      "Test accuracy: 0.10653092712163925\n"
     ]
    }
   ],
   "source": [
    "# evaluate model\n",
    "score = model.evaluate(x_valid, y_valid, batch_size=32, verbose=1)\n",
    "\n",
    "# print performance\n",
    "print()\n",
    "print('Test loss:', score[0])\n",
    "print('Test accuracy:', score[1])"
   ]
  },
  {
   "cell_type": "code",
   "execution_count": 23,
   "metadata": {},
   "outputs": [
    {
     "name": "stdout",
     "output_type": "stream",
     "text": [
      "1/1 [==============================] - 0s 35ms/step - loss: 0.0153 - mse: 0.0153\n",
      "\n",
      "Test loss: 0.0152938487008214\n",
      "Test accuracy: 0.0152938487008214\n"
     ]
    }
   ],
   "source": [
    "# evaluate model with the exact curve\n",
    "score = model.evaluate(x_valid, y_target, batch_size=32, verbose=1)\n",
    "\n",
    "# print performance\n",
    "print()\n",
    "print('Test loss:', score[0])\n",
    "print('Test accuracy:', score[1])"
   ]
  },
  {
   "cell_type": "code",
   "execution_count": 24,
   "metadata": {},
   "outputs": [
    {
     "data": {
      "image/png": "[encoded data removed]",
      "text/plain": [
       "<Figure size 720x504 with 1 Axes>"
      ]
     },
     "metadata": {
      "needs_background": "light"
     },
     "output_type": "display_data"
    }
   ],
   "source": [
    "# look into training history\n",
    "# Plot training & validation loss values\n",
    "plt.figure(figsize=(10, 7))\n",
    "plt.plot(history.history['loss'])\n",
    "plt.plot(history.history['val_loss'])\n",
    "plt.title('Model loss')\n",
    "plt.ylabel('Loss')\n",
    "plt.xlabel('Epoch')\n",
    "plt.legend(['Train', 'Test'], loc='best')\n",
    "plt.show()"
   ]
  },
  {
   "cell_type": "code",
   "execution_count": 25,
   "metadata": {},
   "outputs": [
    {
     "data": {
      "image/png": "[encoded data removed]",
      "text/plain": [
       "<Figure size 720x504 with 1 Axes>"
      ]
     },
     "metadata": {
      "needs_background": "light"
     },
     "output_type": "display_data"
    }
   ],
   "source": [
    "x_predicted = np.random.uniform(-1, 1, 100)\n",
    "y_predicted = model.predict(x_predicted)\n",
    "plt.figure(figsize=(10, 7))\n",
    "plt.scatter(x_predicted, y_predicted,color='r')\n",
    "plt.plot(x_valid, y_target)\n",
    "plt.grid(True)\n",
    "plt.show()"
   ]
  },
  {
   "cell_type": "code",
   "execution_count": null,
   "metadata": {},
   "outputs": [],
   "source": []
  },
  {
   "cell_type": "code",
   "execution_count": null,
   "metadata": {},
   "outputs": [],
   "source": []
  },
  {
   "cell_type": "code",
   "execution_count": null,
   "metadata": {},
   "outputs": [],
   "source": []
  }
 ],
 "metadata": {
  "kernelspec": {
   "display_name": "Python 3",
   "language": "python",
   "name": "python3"
  },
  "language_info": {
   "codemirror_mode": {
    "name": "ipython",
    "version": 3
   },
   "file_extension": ".py",
   "mimetype": "text/x-python",
   "name": "python",
   "nbconvert_exporter": "python",
   "pygments_lexer": "ipython3",
   "version": "3.8.5"
  }
 },
 "nbformat": 4,
 "nbformat_minor": 4
}
